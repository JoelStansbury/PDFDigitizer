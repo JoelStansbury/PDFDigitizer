{
 "cells": [
  {
   "cell_type": "code",
   "execution_count": 1,
   "metadata": {},
   "outputs": [],
   "source": [
    "from pathlib import Path\n",
    "import json\n",
    "import spacy\n",
    "import numpy as np\n",
    "import pandas as pd\n",
    "\n",
    "from pdf_annotation import DataNode, TreeWidget, App"
   ]
  },
  {
   "cell_type": "code",
   "execution_count": 2,
   "metadata": {},
   "outputs": [],
   "source": [
    "# load in an NLP model for demonstration\n",
    "nlp = spacy.load(\"en_core_web_lg\")"
   ]
  },
  {
   "cell_type": "code",
   "execution_count": 3,
   "metadata": {},
   "outputs": [],
   "source": [
    "def loadf(path):\n",
    "    \"\"\"load a json file into a python dict\"\"\"\n",
    "    with open(path) as f:\n",
    "        data = json.load(f)\n",
    "    return data"
   ]
  },
  {
   "cell_type": "code",
   "execution_count": 4,
   "metadata": {},
   "outputs": [],
   "source": [
    "# load the digital representation of all processed documents created using the PdfDigitizer\n",
    "doctrees = [DataNode(loadf(x)) for x in Path(\"C:\\git\\PDFDigitizer\\pdfs\").rglob(\"*.json\")][1:]"
   ]
  },
  {
   "cell_type": "code",
   "execution_count": 5,
   "metadata": {},
   "outputs": [],
   "source": [
    "for doc in doctrees:\n",
    "    for path, section in doc.walk():\n",
    "        text = \" \".join([\" \".join(tb[\"value\"].split()) for tb in section.content if tb[\"type\"] == \"text\"])\n",
    "        section.sent = nlp(text)"
   ]
  },
  {
   "cell_type": "code",
   "execution_count": 6,
   "metadata": {},
   "outputs": [],
   "source": [
    "search_criteria = \"5g surface to air missile defense system\""
   ]
  },
  {
   "cell_type": "code",
   "execution_count": 7,
   "metadata": {},
   "outputs": [
    {
     "name": "stderr",
     "output_type": "stream",
     "text": [
      "<ipython-input-7-aaf9d0244747>:5: UserWarning: [W008] Evaluating Doc.similarity based on empty vectors.\n",
      "  results.append((sc.similarity(section.sent), section.sent, section, doc.label))\n"
     ]
    }
   ],
   "source": [
    "sc = nlp(search_criteria)\n",
    "results = []\n",
    "for doc in doctrees:\n",
    "    for path, section in doc.walk():\n",
    "        results.append((sc.similarity(section.sent), section.sent, section, doc.label))"
   ]
  },
  {
   "cell_type": "code",
   "execution_count": 8,
   "metadata": {},
   "outputs": [
    {
     "name": "stdout",
     "output_type": "stream",
     "text": [
      "Joint Service (Navy/Marine Corps and Air Force) air combat units use the AIM-9X to: ¢ Conduct short-range air-to-air combat ¢ Engage multiple enemy aircraft types with passive infrared guidance in the missile seeker ¢ Seek and attack enemy aircraft at large angles away from the heading of the launch aircraft\n",
      "\n",
      "Naval Commanders employ platforms equipped with CEC to: ¢ Improve battle force air and missile defense capabilities by combining data from multiple battle force air search sensors on CEC-equipped units into a single, real-time, composite track picture. ¢ Provide accurate air and surface threat tracking data to ships equipped with the Ship Self-Defense System.\n",
      "\n",
      "The FFG 62 Constellation class is a new multi-mission, small surface combatant intended to operate in increasingly complex warfare environments requiring capability to conduct air warfare (AW); anti-submarine warfare (ASW); surface warfare (SUW); electronic warfare (EW)/information operations (IO); and intelligence, surveillance, and reconnaissance (ISR) missions. The ship is powered by a combined diesel-electric and gas system, which employs two electric propulsion motors and a single gas turbine engine. The key Navy standard warfare system elements to be fielded on board FFG 62 Constellation class include the following systems: - AN/SPY-6 (FFG 62 Constellation class variant) Air Surveillance Radar - Mk4l Vertical Launch System with Evolved Sea Sparrow Missiles and Navy Standard Missiles - Rolling Airframe Missile (RAM) Guided Missile Launching System with RAM - AN/SQQ-89(V)16 Undersea Warfare/ASW Combat System - AN/SLQ-25 NIXIE - AN/SPS-73(V)18 Next Generation Surface Search Radar - Mk 110 57-mm Gun (with Advanced Low-Cost Munitions Ordnance) - Over-the-Horizon Weapon System - MH-60R Seahawk helicopter - MQ-8C Fire Scout Vertical Take-off and Landing Tactical Unmanned Aerial Vehicle with MD-4A Mission Control System The FFG 62 Constellation Class System Specification establishes requirements for survivability features to be incorporated into the ship. They include, but are not limited to, the following: - Shock resistance to underwater explosions for select systems - Armor and ballistic protection in designated areas - Blast and fire-resistant structure in designated areas - Vulnerability reduction features for vital hull, mechanical, and electrical systems to include redundancy, separation, and damage isolation - Chemical, biological, and radiological defense systems - Signature reduction (e.g. radar cross section (RCS), infrared (IR), underwater electromagnetic)\n",
      "\n",
      "The Navy Aegis Modernization program provides updated technology and systems for CG 47-class Aegis-guided missile cruisers and DDG 51-class Aegis-guided missile destroyers. This planned, phased program provides similar technology and systems for new construction destroyers. The AWS integrates the following components: - AN/SPY-1 three-dimensional (range, altitude, and azimuth) multi-function radar - AN/SQQ-89 undersea warfare suite that includes the AN/SQS-53 sonar, SQR-19 passive towed sonar array (DDGs 51 through 78, CGs 52 through 73), and the SH-60B or MH-60R helicopter (Flight IIA DDGs 79 and newer have a hangar to allow the ship to carry and maintain its own helicopter) - Close-In Weapon System - A5-inch diameter gun - Harpoon anti-ship cruise missiles (DDGs 51 through 78, CGs 52 through 73) - Vertical Launch System that can launch Tomahawk land-attack missiles, Standard Missile (SM)-2 and SM-6 surface to-air missile variants, Evolved Sea Sparrow Missiles, and Vertical Launch Anti-Submarine Rockets ¢ The AWS is upgraded through quadrennial ACBs. The Navy is currently upgrading the AWS to ACB-16. ACB 16 Baseline 9.2 upgrades will be installed on modernized and new construction Flight ITA DDG 51 destroyers and Service Life Extension Program for SP Y-1B-equipped cruisers and Baseline 8 SPY-1A CG 47 cruisers, respectively. Flight III DDG 51 destroyers will receive ACB-20 Baseline 10.\n",
      "\n",
      "Near Surface Detection Mission Module (MM): one Airborne Laser Mine Detection System unit for employment on the MH-60S multi-mission helicopter. Remote Minehunting (RMH) MM: two minehunting sonar units and one MCM Unmanned Surface Vehicle (USV) for minehunting capabilities. The Navy is integrating the AN/AQS-20C minehunting sonar systems for use from the MCM USV. The Navy has implemented several Engineering Change Proposals to the UISS surface craft as the production baseline for the MCM USV. Buried Minehunting MM: two battery-powered, autonomous, Knifefish Block I Unmanned Undersea Vehicles, employing a low frequency, broadband, synthetic aperture sonar to detect and classify mines moored in the ocean volume, laying on the ocean bottom, or buried in bottom sediment. Coastal Mine Reconnaissance MM: one Coastal Battlefield Reconnaissance and Analysis System Block I integrated with the MQ-8B Fire Scout. Fire Scout is a Vertical Take-off and Landing Tactical Unmanned Aerial Vehicle for daytime unmanned aerial tactical reconnaissance to detect and localize mine lines and obstacles in the beach zone. Airborne Mine Neutralization MM: two Airborne Mine Neutralization System (AMNS) units for employment on the MH-60S multi-mission helicopter. Near Surface Neutralization MM (projected for FY24): the Barracuda Mine Neutralization System completed preliminary design review in June 2019. The system may begin developmental testing (DT) in FY24, and if successful, augment AMNS in other portions of the water column. The Navy plans to deploy Barracuda from LCS using the MCM USV. Unmanned Minesweeping MM: one UISS composed of one MCM USV and the sweep payload deployment system to detonate acoustic-, magnetic-, and combined acoustic/magnetic-initiated mines moored in the ocean volume, laying on the ocean bottom, or buried in bottom sediment. Aviation MM: consists of one MH-60S multi-mission helicopter with the AMCM mission kit and one MQ-8B Fire Scout.\n",
      "\n"
     ]
    }
   ],
   "source": [
    "top_5 = sorted(results, key = lambda x: x[0], reverse=True)[:5]\n",
    "for res in top_5:\n",
    "    print(res[1])\n",
    "    print()"
   ]
  },
  {
   "cell_type": "code",
   "execution_count": 9,
   "metadata": {},
   "outputs": [
    {
     "data": {
      "text/plain": [
       "'../pdfs/NAVY/2020aim9x.pdf'"
      ]
     },
     "execution_count": 9,
     "metadata": {},
     "output_type": "execute_result"
    }
   ],
   "source": [
    "top_5[0][3]"
   ]
  },
  {
   "cell_type": "code",
   "execution_count": 10,
   "metadata": {},
   "outputs": [
    {
     "ename": "AttributeError",
     "evalue": "'App' object has no attribute 'select'",
     "output_type": "error",
     "traceback": [
      "\u001b[1;31m---------------------------------------------------------------------------\u001b[0m",
      "\u001b[1;31mAttributeError\u001b[0m                            Traceback (most recent call last)",
      "\u001b[1;32m<ipython-input-10-67e08f897cd9>\u001b[0m in \u001b[0;36m<module>\u001b[1;34m\u001b[0m\n\u001b[0;32m      1\u001b[0m \u001b[0mapp\u001b[0m \u001b[1;33m=\u001b[0m \u001b[0mApp\u001b[0m\u001b[1;33m(\u001b[0m\u001b[1;34m\"../pdfs\"\u001b[0m\u001b[1;33m)\u001b[0m\u001b[1;33m\u001b[0m\u001b[1;33m\u001b[0m\u001b[0m\n\u001b[0;32m      2\u001b[0m \u001b[0mapp\u001b[0m\u001b[1;33m.\u001b[0m\u001b[0mfile_dd\u001b[0m\u001b[1;33m.\u001b[0m\u001b[0mvalue\u001b[0m \u001b[1;33m=\u001b[0m \u001b[0mPath\u001b[0m\u001b[1;33m(\u001b[0m\u001b[0mtop_5\u001b[0m\u001b[1;33m[\u001b[0m\u001b[1;36m0\u001b[0m\u001b[1;33m]\u001b[0m\u001b[1;33m[\u001b[0m\u001b[1;36m3\u001b[0m\u001b[1;33m]\u001b[0m\u001b[1;33m)\u001b[0m\u001b[1;33m\u001b[0m\u001b[1;33m\u001b[0m\u001b[0m\n\u001b[1;32m----> 3\u001b[1;33m \u001b[0mapp\u001b[0m\u001b[1;33m.\u001b[0m\u001b[0mselect\u001b[0m\u001b[1;33m\u001b[0m\u001b[1;33m\u001b[0m\u001b[0m\n\u001b[0m\u001b[0;32m      4\u001b[0m \u001b[0mapp\u001b[0m\u001b[1;33m\u001b[0m\u001b[1;33m\u001b[0m\u001b[0m\n",
      "\u001b[1;31mAttributeError\u001b[0m: 'App' object has no attribute 'select'"
     ]
    }
   ],
   "source": [
    "app = App(\"../pdfs\")\n",
    "app.file_dd.value = Path(top_5[0][3])\n",
    "app.select\n",
    "app"
   ]
  },
  {
   "cell_type": "code",
   "execution_count": null,
   "metadata": {},
   "outputs": [],
   "source": [
    "\n"
   ]
  },
  {
   "cell_type": "code",
   "execution_count": null,
   "metadata": {},
   "outputs": [],
   "source": []
  }
 ],
 "metadata": {
  "kernelspec": {
   "display_name": "Python 3",
   "language": "python",
   "name": "python3"
  },
  "language_info": {
   "codemirror_mode": {
    "name": "ipython",
    "version": 3
   },
   "file_extension": ".py",
   "mimetype": "text/x-python",
   "name": "python",
   "nbconvert_exporter": "python",
   "pygments_lexer": "ipython3",
   "version": "3.8.2"
  }
 },
 "nbformat": 4,
 "nbformat_minor": 4
}
