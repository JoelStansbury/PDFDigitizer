{
 "cells": [
  {
   "cell_type": "code",
   "execution_count": null,
   "metadata": {},
   "outputs": [],
   "source": [
    "from ipywidgets import Button, HBox, HTML, Accordion, IntSlider, Text, Textarea, VBox\n",
    "from Deque import Deque\n",
    "from ipyevents import Event\n",
    "from traitlets import Int, observe, link, Any"
   ]
  },
  {
   "cell_type": "code",
   "execution_count": null,
   "metadata": {},
   "outputs": [],
   "source": [
    "class ScrollableButton(Button):\n",
    "    def __init__(self, *args, **kwargs):\n",
    "        super().__init__(*args, **kwargs)\n",
    "    def update(self, data):\n",
    "        self.description = data"
   ]
  },
  {
   "cell_type": "code",
   "execution_count": null,
   "metadata": {},
   "outputs": [],
   "source": [
    "a = Deque(ScrollableButton, [\"HELLO\",\"GOODBYE\",\"my\",\"name\",\"is\"]*3)"
   ]
  },
  {
   "cell_type": "code",
   "execution_count": null,
   "metadata": {},
   "outputs": [],
   "source": [
    "a"
   ]
  },
  {
   "cell_type": "code",
   "execution_count": null,
   "metadata": {},
   "outputs": [],
   "source": [
    "b = Accordion([a])"
   ]
  },
  {
   "cell_type": "code",
   "execution_count": null,
   "metadata": {},
   "outputs": [],
   "source": [
    "b"
   ]
  },
  {
   "cell_type": "code",
   "execution_count": null,
   "metadata": {},
   "outputs": [],
   "source": [
    "class NodeInner(Accordion):\n",
    "    def __init__(self, name, children=None, *args, **kwargs):\n",
    "        super().__init__(*args, **kwargs)\n",
    "        self.name = name\n",
    "        self.children = children if children else []\n",
    "        for i,c in enumerate(self.children):\n",
    "            self.set_title(i,c.sections.name)\n",
    "        \n",
    "class Node(VBox):\n",
    "    selected_index = Any().tag(sync=True)\n",
    "    \n",
    "    def __init__(self, *args,**kwargs):\n",
    "        super().__init__()\n",
    "        \n",
    "        self.sections = NodeInner(*args,**kwargs)\n",
    "        self.add_section_btn = Button(icon = \"plus\")\n",
    "        self.add_section_btn.on_click(self.add_section)\n",
    "        \n",
    "        link((self.sections, \"selected_index\"), (self, \"selected_index\"))\n",
    "        \n",
    "        if self.selected_index is not None:\n",
    "            self.children = [self.sections]\n",
    "        else:\n",
    "            self.children = [self.sections, self.add_section_btn]\n",
    "        \n",
    "    def add_section(self, _):\n",
    "        self.sections.children = list(self.sections.children) + [Node(\"Heading?\")]\n",
    "        N = len(self.sections.children) - 1\n",
    "        self.sections.set_title(N, \"<Use tool to select title>\")\n",
    "        self.sections.selected_index = N\n",
    "\n",
    "    @observe(\"selected_index\")\n",
    "    def set_btn_visibility(self, change):\n",
    "        \"Hide button when a subsection is selected\"\n",
    "        \n",
    "        if change[\"new\"] is None:\n",
    "            self.children = [self.sections, self.add_section_btn]\n",
    "        else:\n",
    "            self.children = [self.sections]\n",
    "            \n",
    "    def path_to_selected(self):\n",
    "        \"Returns a list of indexes showing how to traverse the tree to get to the selected node\"\n",
    "        \n",
    "        if self.selected_index is None:\n",
    "            return []\n",
    "        return [self.selected_index] + self.sections.children[self.selected_index].path_to_selected()"
   ]
  },
  {
   "cell_type": "code",
   "execution_count": null,
   "metadata": {},
   "outputs": [],
   "source": [
    "n = Node(\n",
    "    \"root\",\n",
    "    [\n",
    "        Node(\"section 1\",\n",
    "            [\n",
    "                Node(\"section 1\"), \n",
    "                Node(\"section 2\",\n",
    "            [\n",
    "                Node(\"section 1\"), \n",
    "                Node(\"section 2\"),\n",
    "                Node(\"section 3\"), \n",
    "                Node(\"section 4\")\n",
    "            ]),\n",
    "                Node(\"section 3\"), \n",
    "                Node(\"section 4\")\n",
    "            ]\n",
    "        ), \n",
    "        Node(\"section 2\"),\n",
    "        Node(\"section 3\"), \n",
    "        Node(\"section 4\")\n",
    "    ],\n",
    ")"
   ]
  },
  {
   "cell_type": "code",
   "execution_count": null,
   "metadata": {},
   "outputs": [],
   "source": [
    "n"
   ]
  },
  {
   "cell_type": "code",
   "execution_count": null,
   "metadata": {},
   "outputs": [],
   "source": [
    "n.path_to_selected()"
   ]
  },
  {
   "cell_type": "code",
   "execution_count": null,
   "metadata": {},
   "outputs": [],
   "source": [
    "def Tree(data):\n",
    "    if data:\n",
    "        return [Node(d[\"label\"], Tree(d[\"children\"])) for d in data]\n",
    "\n",
    "\n",
    "\n",
    "data =[\n",
    "    {\n",
    "        \"label\":\"root\", \n",
    "        \"children\":[\n",
    "            {\"label\": \"1\", \"children\": []},\n",
    "            {\"label\": \"2\", \"children\": []},\n",
    "            {\"label\": \"3\", \"children\": []},\n",
    "            {\"label\": \"4\", \"children\": []},\n",
    "        ]\n",
    "    }\n",
    "]"
   ]
  },
  {
   "cell_type": "code",
   "execution_count": null,
   "metadata": {},
   "outputs": [],
   "source": [
    "Tree(data)[0]"
   ]
  }
 ],
 "metadata": {
  "kernelspec": {
   "display_name": "Python 3",
   "language": "python",
   "name": "python3"
  },
  "language_info": {
   "codemirror_mode": {
    "name": "ipython",
    "version": 3
   },
   "file_extension": ".py",
   "mimetype": "text/x-python",
   "name": "python",
   "nbconvert_exporter": "python",
   "pygments_lexer": "ipython3",
   "version": "3.8.2"
  }
 },
 "nbformat": 4,
 "nbformat_minor": 4
}
