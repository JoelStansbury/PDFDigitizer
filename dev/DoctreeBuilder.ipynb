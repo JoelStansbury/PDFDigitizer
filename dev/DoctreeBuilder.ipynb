{
 "cells": [
  {
   "cell_type": "code",
   "execution_count": 1,
   "metadata": {},
   "outputs": [
    {
     "data": {
      "application/vnd.jupyter.widget-view+json": {
       "model_id": "891c9f2576a94b5d98d783b75fcec4cb",
       "version_major": 2,
       "version_minor": 0
      },
      "text/plain": [
       "App(children=(PdfCanvas(height=1000, width=900), VBox(children=(Dropdown(options=(('../pdfs/CNP_2018.pdf', Win…"
      ]
     },
     "metadata": {},
     "output_type": "display_data"
    }
   ],
   "source": [
    "from pdf_annotation import App\n",
    "app = App(f\"../pdfs\", bulk_render=False)\n",
    "app"
   ]
  },
  {
   "cell_type": "code",
   "execution_count": 4,
   "metadata": {},
   "outputs": [
    {
     "name": "stdout",
     "output_type": "stream",
     "text": [
      "Abrams M1A2 System Enhancement Packages (SEPs)\n",
      "Main Battle Tank (MBT) and Trophy Active Protection\n",
      "System (APS)Executive Summary¢ The Army conducted an\n",
      "FOT&E of the Abrams M1A2\n",
      "System Enhancement Package\n",
      "version 3 (SEPv3) Main Battle\n",
      "Tank (MBT) at Fort Hood,\n",
      "Texas, May 8 — 10, 2019.\n",
      "\n",
      "¢ Survivability improvements\n",
      "made to the Abrams M1A2\n",
      "SEPv3 increased the weight\n",
      "of the vehicle and intensifies\n",
      "\f",
      "recovery and transportation challenges. The Abrams M1A2\n",
      "SEPv3 demonstrated the program’s reliability requirement\n",
      "during operational testing\n",
      "\n",
      "In 1QFY20, the Army completed live fire testing of the\n",
      "Abrams M1A2 SEPv3. DOT&E will publish a classified\n",
      "LFT&E report to support the program’s production contract\n",
      "award scheduled for December 2020.\n",
      "\n",
      "In coordination with DOT&E, the Army drafted the Abrams\n",
      "SEPv4 Test and Evaluation Master Plan (TEMP) and the\n",
      "LFT&E Strategy, which they intend to submit to DOT&E for\n",
      "approval in 2QFY21.\n",
      "\n",
      "In June 2020, DOT&E published a report summarizing\n",
      "\n",
      "the performance of the Abrams SEPv2 with Trophy Active\n",
      "Protection System (APS) tested in FY19. The Army is\n",
      "currently planning the test and evaluation program for Abrams\n",
      "SEPv3 with Trophy APS, which is scheduled for 2QFY21 to\n",
      "4QFY21.\n",
      "\f",
      "SystemAbrams M1A2 System Enhancement Packages\n"
     ]
    }
   ],
   "source": [
    "print(app.doc_tree.to_string())"
   ]
  },
  {
   "cell_type": "code",
   "execution_count": null,
   "metadata": {},
   "outputs": [],
   "source": []
  }
 ],
 "metadata": {
  "kernelspec": {
   "display_name": "Python 3",
   "language": "python",
   "name": "python3"
  },
  "language_info": {
   "codemirror_mode": {
    "name": "ipython",
    "version": 3
   },
   "file_extension": ".py",
   "mimetype": "text/x-python",
   "name": "python",
   "nbconvert_exporter": "python",
   "pygments_lexer": "ipython3",
   "version": "3.8.2"
  }
 },
 "nbformat": 4,
 "nbformat_minor": 4
}
