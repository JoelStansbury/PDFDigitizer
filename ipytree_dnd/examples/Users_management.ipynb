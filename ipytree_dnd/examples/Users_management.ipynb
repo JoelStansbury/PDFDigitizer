{
 "cells": [
  {
   "cell_type": "code",
   "execution_count": null,
   "metadata": {},
   "outputs": [],
   "source": [
    "from traitlets import Int\n",
    "from ipywidgets import link, HBox, VBox, IntSlider, Text, Label\n",
    "from ipytree import Tree, Node"
   ]
  },
  {
   "cell_type": "code",
   "execution_count": null,
   "metadata": {},
   "outputs": [],
   "source": [
    "class User(Node):\n",
    "    age = Int(min=0, max=110)"
   ]
  },
  {
   "cell_type": "code",
   "execution_count": null,
   "metadata": {},
   "outputs": [],
   "source": [
    "users = [User(\"John Doe\", age=10), User(\"Jane Doe\", age=36), User(\"Foo Bar\", age=110), User(\"Bar Foo\", age=55)]"
   ]
  },
  {
   "cell_type": "code",
   "execution_count": null,
   "metadata": {},
   "outputs": [],
   "source": [
    "tree = Tree(users, multiple_selection=False)\n",
    "tree.layout.width = '40%'"
   ]
  },
  {
   "cell_type": "code",
   "execution_count": null,
   "metadata": {},
   "outputs": [],
   "source": [
    "age_slider = IntSlider(min=0, max=110)\n",
    "name_text = Text()"
   ]
  },
  {
   "cell_type": "code",
   "execution_count": null,
   "metadata": {},
   "outputs": [],
   "source": [
    "links = []"
   ]
  },
  {
   "cell_type": "code",
   "execution_count": null,
   "metadata": {},
   "outputs": [],
   "source": [
    "def on_selected_change(change):\n",
    "    for l in links:\n",
    "        l.unlink()\n",
    "    links.clear()\n",
    "    if not len(change['new']):\n",
    "        return\n",
    "    links.append(link((change['new'][0], 'age'), (age_slider, 'value')))\n",
    "    links.append(link((change['new'][0], 'name'), (name_text, 'value')))"
   ]
  },
  {
   "cell_type": "code",
   "execution_count": null,
   "metadata": {},
   "outputs": [],
   "source": [
    "tree.observe(on_selected_change, names='selected_nodes')"
   ]
  },
  {
   "cell_type": "code",
   "execution_count": null,
   "metadata": {},
   "outputs": [],
   "source": [
    "HBox([tree, VBox([HBox([Label('Age:'), age_slider]), HBox([Label('Name:'), name_text])])])"
   ]
  }
 ],
 "metadata": {
  "kernelspec": {
   "display_name": "Python 3",
   "language": "python",
   "name": "python3"
  },
  "language_info": {
   "codemirror_mode": {
    "name": "ipython",
    "version": 3
   },
   "file_extension": ".py",
   "mimetype": "text/x-python",
   "name": "python",
   "nbconvert_exporter": "python",
   "pygments_lexer": "ipython3",
   "version": "3.6.6"
  }
 },
 "nbformat": 4,
 "nbformat_minor": 2
}
