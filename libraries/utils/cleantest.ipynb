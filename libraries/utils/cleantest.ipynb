{
 "cells": [
  {
   "cell_type": "code",
   "execution_count": 87,
   "metadata": {},
   "outputs": [],
   "source": [
    "import json"
   ]
  },
  {
   "cell_type": "code",
   "execution_count": 89,
   "metadata": {},
   "outputs": [],
   "source": [
    "with open(\"C:\\git\\PDFDigitizer\\pdfs\\paper.json\", \"r\") as f:\n",
    "    data = json.loads(f.read())"
   ]
  },
  {
   "cell_type": "markdown",
   "metadata": {},
   "source": [
    "## String Formatting\n",
    "Clean the raw text such that NLP can be done"
   ]
  },
  {
   "cell_type": "code",
   "execution_count": 88,
   "metadata": {},
   "outputs": [],
   "source": [
    "import re\n",
    "\n",
    "wordBreak = re.compile(\"-\\n\")\n",
    "lineBreak = re.compile(\"\\n\")\n",
    "notAlphaNum = re.compile(\"[^a-zA-Z0-9 -]\")\n",
    "\n",
    "subs = [\n",
    "    [wordBreak, \"\"],\n",
    "    [lineBreak, \" \"],\n",
    "    [notAlphaNum, \"\"]\n",
    "]\n",
    "\n",
    "def clean(s):\n",
    "    for old, new in subs:\n",
    "        s=re.sub(old,new,s)\n",
    "    return s"
   ]
  },
  {
   "cell_type": "markdown",
   "metadata": {},
   "source": [
    "## Reconstruction\n",
    "Concatenate text within bboxes of the same category in the order they were created"
   ]
  },
  {
   "cell_type": "code",
   "execution_count": 96,
   "metadata": {},
   "outputs": [],
   "source": [
    "def flatDict2StringList(data):\n",
    "    sections = [\"\" for i in range(len(data[\"color_picker_params\"][\"names\"]))]\n",
    "    for page, blocks in enumerate(data[\"texts\"]):\n",
    "        cats = data[\"categories\"][page]\n",
    "        for cat, block in zip(cats, blocks):\n",
    "            sections[cat]+=clean(block)\n",
    "    return sections"
   ]
  },
  {
   "cell_type": "markdown",
   "metadata": {},
   "source": [
    "## Term Coordinates\n",
    "Determine the bounding box of each word.\n",
    "This requires some sort of probabalistic zip function which can match up the characters of Tesseract's image2bboxes function with the words of it's image2string function.\n",
    "\n",
    "> stwykd suggested this in https://stackoverflow.com/questions/20831612\n",
    "```python\n",
    "import pytesseract\n",
    "from pytesseract import Output\n",
    "import cv2\n",
    "img = cv2.imread('image.jpg')\n",
    "\n",
    "d = pytesseract.image_to_data(img, output_type=Output.DICT)\n",
    "n_boxes = len(d['level'])\n",
    "for i in range(n_boxes):\n",
    "    (x, y, w, h) = (d['left'][i], d['top'][i], d['width'][i], d['height'][i])\n",
    "    cv2.rectangle(img, (x, y), (x + w, y + h), (0, 255, 0), 2)\n",
    "\n",
    "cv2.imshow('img', img)\n",
    "cv2.waitKey(0)\n",
    "```\n",
    "If this can produce bboxes around words, then this procedure will be much simpler"
   ]
  },
  {
   "cell_type": "code",
   "execution_count": 97,
   "metadata": {},
   "outputs": [],
   "source": [
    "out = flatDict2StringList(data)"
   ]
  },
  {
   "cell_type": "code",
   "execution_count": 103,
   "metadata": {
    "collapsed": true,
    "jupyter": {
     "outputs_hidden": true
    }
   },
   "outputs": [
    {
     "data": {
      "text/plain": [
       "'2 Devices used in this Study The Hamamatsu SiPM is a prototype named LVR26050-CN The device has an active area of 6 x 6mm and is composed of 50 wm sized cells For better UV sensitivity the sensor is not covered with a protective layer The breakdown voltage at room temperature 24C is 384V and the bias voltage to achieve a 90 breakdown probability for 400 nm photons is about 42 V see later That bias voltage is less than the 56 V required for the Hamamatsu LCT5 device we tested in 10 Whether the lower bias is due to a narrower high-field region in the present device or due to other changes in the technology we do not know  The second device is a KETEK PM3325 WB SiPMEJIt has an active area of 3x 3mm and 25 pm cells The chip is protected with a 400 wm thick glass window The PM3325 does not feature trenches to suppress optical crosstalk The bias voltage to achieve a 90 breakdown probability when illuminated with 400nm photons is about 32 V and the breakdown voltage is 275 V at room temperature 3 Probing the Avalanche Structure with Photon Detection Efficiency Measurements The photon detection efficiency PDE is one example where the breakdown probability plays a decisive role Depending on the photons absorption length and the location and extension of the high-field region a photon is either absorbed before the high-field region blue photons or after it red photons See Figure 1 for a conceptual sketch of one SiPM cell which illustrates the situation  The photon absorption results in the generation of an electron and hole which - in case the absorption takes place in the active volume of the cell - drift in opposite directions due to the electric field in the depleted volume If the photon is absorbed after the high-field region in a p-on-n structure like the ones studied here it is the hole that drifts into the high-field region if the photon absorbs before the high-field region it is the electron that drifts down into the avalanche region  The probability to initiate a Geiger breakdown is smaller for holes than for electrons due to the lower mobility of holes in silicon eg 13 If one could measure the probability of a subsequent breakdown as a function of where the electronhole pair is released one would therefore reverse engineer the location and vertical extension of the high-field region Such a mapping is indeed possible with bias dependent PDE measurements as has been shown in 11 22  For the Hamamatsu SiPM we measured the PDE at three wavelengths and for the KETEK device at four wavelengths A description of the setups and procedures used for the PDE and all other measurements presented here is given in IO  Like in our previous measurements we find that the PDE for a given wavelength is well fit with the empirical model where U  U  Usp Usp is the relative overvoltage above the breakdown voltage Upp PDE max is the PDE in saturation but is not necessarily the true saturation value because we cannot measure the PDE at higher bias values The term in square brackets is the breakdown probability which depends only on the product of the relative overvoltage and a dimensionless parameter O which is mostly dependent on whether an electron or a hole initiates a breakdown as we explain later  In that context it is interesting to remark that empirically all the bias dependent physics of the breakdown is included in one single constant or in a linear function when larger relative overvoltages than measured here are taken into account 12 Because our data is well described with one constant we do not need to consider the linear function which would furthermore not be sufficiently constrained by our data The devices we tested cannot be operated much beyond the measured voltage range  While the overall fit function is the same as in there are two differences in its usage Instead of plotting the breakdown probability as a function of absolute bias voltage we use the relative overvoltage U The second difference is that we characterize the electronhole initiation probability with O instead of the voltage at which the PDE reaches 95 O and U are inherently less dependent on the structure of the device and temperature than the absolute bias voltage as we shall motivate in the following  The avalanche and breakdown characteristics of a pnjunction are governed by the ionization rates which depend strongest on the electric field and much less on device specifics like the doping profile doping concentrations or temperature 14 By parametrizing the breakdown probability as a function of the average electric field E in the high-field region and not as a function of absolute voltage one arrives at a parameterization that depends mostly on avalanche physics With such a parameterization it should then be possible to extract information about the breakdown characteristics that can be compared with measurements from other devices in a meaningful manner  The bias U  Ew depends on the device specific parameter w ie the effective width of the high field region and thus cannot fulfill the task of a device-independent characterization The relative overvoltage U on the other hand is independent of w and proportional to E where Ez is the electrical field at breakdown averaged across the high-field region We note that w drops out if the width of the depleted region does not change between breakdown and operating voltage That assumption holds true for most available SiPM including the tested devices where the gain as a function of bias voltage is described by a linear function see Figure 2  While as mentioned above most of the breakdown characteristics depend on the electric field other factors play a role too U compensates for some but admittedly not all of the device and temperature dependencies by normalizing to Exp We can show that at least the temperature dependencies of the breakdown characteristics are properly taken care of Optical crosstalk measurements taken at 100K temperature difference fall on top of each other when plotted as a function of U see Figure 5 which would not be the case if plotting against U would not compensate for temperature dependencies The picture is very different when optical crosstalk is plotted as a function of absolute voltage  Using U in the argument of the exponential function of the breakdown probability can be viewed as a Taylor series expansion about the critical electric field Epp The linear coefficient in the expansion is O the constant term is obviously zero or so small that it is not relevant higher order terms can be relevant 12 O thus parameterizes the electric field dependence of the breakdown which as we have discussed above does not depend much on the device specifics O can thus be compared between devices contrary to the absolute voltage when the breakdown probability reaches 95  But the breakdown probability depends strongly on whether an avalanche is initiated by electrons or holes and it is therefore expected that O changes with changing electronhole breakdown initiation ratio Figure 3 shows the breakdown probability derived from the PDE measurements ie the PDE divided by PDE ax The solid lines depict the best fit parameterizations of the breakdown probability which all yield fit probabilities of 30 or better The fitted values of O are listed in Table I together with the corresponding photon absorption lengths The 589 nm light source was not available for the measurement of the Hamamatsu device  The value of O decreases with increasing photon wavelength for each device which is a testimony to the fact that the breakdown probability shifts from majority electron to majority hole initiated breakdowns O thus shows a clear dependence on the ratio of electron to hole initiated breakdowns  The absolute value of O should also depend on the dimensions of the avalanche region which we do not know and thus cannot explore further For the time being we resort to the assumption that the dependence of O on the width of the avalanche region is small compared to the observed change with photon-wavelength and can be neglected How valid that assumption is needs to be shown in the future on devices with known dimensions of the high field region The avalanche regions of the two tested devices probably have fairly similar widths which we infer from the similarities of their respective breakdown voltages which are 268 V and 375 V at 0C for the KETEK and Hamamatsu SiPM respectively  For the Hamamatsu device O is 12 for photon absorption lengths of 09 zm while the KETEK SiPM yields the same number for absorption lengths of 04 um If the difference in absorption lengths is taken at face value and O does not depend strongly on details of the two structures it follows that the avalanche region is located 05 um deeper in the Hamamatsu SiPM than in the KETEK SiPM  Two more observations are that a in between absorption lengths 008 wm and 04m O changes little in the Hamamatsu SiPM while it changes much more in the KETEK SiPM And b  never reaches as high a value in the KETEK SiPM as in the Hamamatsu SiPM Under the assumption that O does not depend strongly on details of the two structures we interpret both observations as evidence for a location of the avalanche region in the KETEK SiPM that is right below the surface and that already for 400nm photons a significant fraction of photons absorb after the avalanche region In the Hamamatsu SiPM on the other hand the passive region right below the surface and before the drift volume starts is thinner than in the KETEK device Thus more photons are absorbed and mostly electrons drift into the high-field region also for  400 nm photons  In that scenario it is expected that the spectral response of the Hamamatsu device is higher below 400 nm because of the larger active volume above the high field region and thinner passive area It is also expected that the response of the KETEK SiPM peaks at lower wavelengths than in the Hamamatsu SiPM because the breakdowns change to hole dominate ones for shorter wavelengths in the KETEK device than in the Hamamatsu one That is indeed what we observe Figure 4 shows the spectral response of the two devices measured with the setup explained in IQ 4 Where Optical Crosstalk Photons enter a Cell In this section we discuss how O can be used to determine where optical crosstalk photons enter a cell Optical crosstalk OC is caused by photons that are emitted in the breakdown of one cell and propagate into a neighboring cell where they initiate an additional breakdown One distinguishes two types of OC see eg  In case the photon absorbs in the active depleted volume of a cell the additional breakdown happens nearly simultaneous to the first breakdown which is why that type of OC is called prompt or direct OC If the photon is absorbed in a nondepleted region eg in the bulk the generated charges first have to diffuse into the depleted volume before they can initiate a breakdown  The diffusion time At can take several tens of nanoseconds depending on the distance d between the location of the photon absorption and the border to the active volume of the cell At  Vd But it can also be just a fraction of a nanosecond if the photon absorbs close to the border  How well the two types of OC can be separated depends on how well two subsequent pulses can be separated in the measurement Any prompt OC measurement is thus always a combination of true prompt OC events and delayed OC events that have a time delay which is below the capability of the measurement setup to resolve two overlapping pulses Two pulses can be identified as such in our setup if they are more than two nanoseconds apart  Figure 5 shows the prompt OC of the two devices recorded at seven temperatures between 75C and 40C In this and subsequent measurements OC is quantified as the probability that the breakdown of one SiPM cell causes one or more other cells to break down too For the Hamamatsu device we discarded the measurement at 40C because the contamination from pile-up of uncorrelated dark counts was too large and could not be reliably subtracted For all other measurements the accidental pile-up within a 2ns time window could be subtracted by assuming that the number of dark counts in a given time interval are Poisson distributed After the correction all OC curves of one device fall on top of each other as expected  We now compare the OC of the two devices at the bias where the breakdown probability for 400nm photons is 90 The arrow in each panel marks the corresponding relative overvoltage The KETEK device has a fairly high optical crosstalk of  20 which is not surprising because it does not have trenches to prevent photons from propagating into neighboring cells The prompt OC in the Hamamatsu device on the other hand is only 15 which is an impressive improvement compared to past developments 10  In we showed that a valid model of the optical crosstalk probability vs relative overvoltage is where we use f  3-10 from as the number of photons produced per charge carrier in the avalanche that can also cause OC We note that other measurements of the photon intensity exist eg 18 but those also include spectral components which are irrelevant for OC either because the photon absorption lengths are too long photons do not absorb in the device or too short photons absorb in the same cell they are emitted from Ceg-Ure- UBD is the gain of the SiPM and 7 is a figure of merit that quantifies what fraction of the photons produced in a breakdown make it into a neighboring cell The term in square brackets is the breakdown probability already discussed in the previous section  The OC data in Figure 5 are fit with that model For the fit we fixed the cell capacitance Cog at 84fF and 154 fF and the breakdown voltage at 268V and 375V at 0C for the KETEK and Hamamatsu SiPM respectively The capacitance and breakdown voltages had been measured as described in 10 The breakdown voltage is found to increase by about 01C in both devices  The Hamamatsu OC measurements can be fit over the entire measured range with an acceptable fit probability For the KETEK device we had to restrict the upper end of the fit range to a relative overvoltage of 015 ie OC of less than 20 in order for the fit to yield an acceptable fit probability It is evident from the KETEK data points that the OC data turn over in what seems to be a saturating behavior An explanation for this behavior is that for large OC of more than 20 and the cell size of the device the probability of more than one OC photon being absorbed in the same cell cannot be neglected anymore That effect is not included in the fit model  Table 2 lists the values for y from the fits The average values from our previously measured devices are also listed 10 Comparing the numbers it is evident that the structure of the LVR2 device is 55 times better than the LCT5 device in preventing photons from crossing cells The value for 7 is 0014 ie 14 of all photons make it into a neighboring cell where they can cause optical crosstalk In the KETEK SiPM between 35 and 44 of the photons cause optical crosstalk  The second factor that determines the amount of OC is the product of breakdown voltage and cell capacitance which is 225pF-V for the KETEK and 578 pF-V for the Hamamatsu SiPM It is a figure of merit that is proportional to the charge generated in an avalanche Minimizing the figure of merit by designing devices with small breakdown voltage andor small cell capacitance minimizes OC while retaining good breakdown characteristics which are governed by U  This time it is the KETEK SiPM that outperforms the Hamamatsu device by a factor of 26 because of its smaller cell capacitance However the Hamamatsu SiPM has a two times smaller cell capacitance per cell area We would thus expect that the product of cell capacitance and breakdown voltage for an LVR2 with 25m cells will be two times lower than for the KETEK device This assumes that the cell capacitance scales linear with area which is not necessarily the case as edge effects become important for small cell sizes  The fit results also allow us to draw conclusions about the location where the crosstalk producing photons are absorbed relative to the avalanche region For the previously tested Hamamatsu LCT5 SiPM we could show that the majority of these photons are absorbed above the avalanche region 10 The O value we obtained then was  26 That interpretation was confirmed by Hamamatsu who found that these photons exit the silicon and reflect off the boundary between the protective layer and the ambient air back into a cell  In the Hamamatsu SiPM studied here that contribution to the prompt OC has been successfully suppressed by eliminating the protective epoxy layer The same conclusion comes from the interpretation of O The best fit value for O is about 10 1 in all fits of the optical crosstalk but the one for 20C where the fit probability is 10 due to a contamination from random dark counts and can thus be safely ignored see Table 2 The average value can be compared with the ones we found from the different PDE measurements Table ip A small O value like 10 corresponds to heavily hole initiated breakdowns which means that the OC photons must be absorbed below the highfield region According to Table 1 that is the case if the OC photons absorb in a depth  1 zm below the surface     Three scenarios come to mind that can explain how optical crosstalk photons can be absorbed at such depths The first scenario is that some photons manage to penetrate the trench between cells That scenario is unlikely because photons would absorb uniformly across the cell ie absorb above and below the avalanche region and in consequence result in values for O larger than 10 because the occurring breakdowns would be electron and hole initiated The second scenario is that some photons with long absorption lengths still bounce off the air-SiPM interface and are absorbed deep inside the device ie mostly below the avalanche structure The third and our preferred scenario is that photons cross into a neighboring cell below the trench and are absorbed below the avalanche structure  In the second and third scenario photons can be absorbed in the bulk and the generated holes diffuse into the active volume where they cause delayed OC see next section If the diffusion time is less than 2 ns and thus below the resolving time of our setup the delayed OC would be misidentified as a prompt OC event If the photons are absorbed in the active volume below the avalanche region a prompt OC would be caused  The fit result for the KETEK SiPM yields an O number of 13607 Comparing that value with the O numbers in Table I lets us conclude that the majority of the photons absorb equally distributed across the avalanche region and thus produce an equal amount of electron and hole dominated breakdowns That result is not surprising as the device does not have trenches in between cells which would prevent photons to travel directly from the avalanche region where they are produced into a neighboring one    5 Afterpulsing and Delayed Optical Crosstalk If the prompt OC in the Hamamatsu device is indeed dominated by misidentified delayed OC a reduction of the minority carrier lifetimes in the bulk with a low resistivity bulk or a better shielding of the active volume from carriers diffusing out of the bulk with a potential barrier might be a viable way to reduce OC further unless those measures are already implemented We illustrate the potential room for improvement by discussing the delayed OC and afterpulsing characteristics of the two tested SiPMs Both quantities are extracted by recording time difference between SiPM pulses as explained in 10 Afterpulsing events become dominant a few ten nanoseconds after a breakdown when the corresponding cell is recharged to 50 or more of its full capacity Delayed OC signals dominate at shorter time differences For the Hamamatsu LVR2 device the subjective division between the two contributions is made at 20ns and for the KETEK device at 10ns We note that our choice of separating the two contributions in the described way results in a contamination of each measurement with events of the opposite type That contamination is acceptable for our purposes Figure 6 shows the afterpulsing and Figure 7 the delayed optical-crosstalk probabilities of both devices  The KETEK device has an afterpulsing probability of less than 1 whereas the afterpulsing of the Hamamatsu device is two to three times larger when compared at their respective bias which yields a 90 breakdown probability for 400 nm photons marked by the arrow in the figures The uncertainties in the different fits of the Hamamatsu afterpulsing data do not allow us to claim a temperature dependence The afterpulsing of the KETEK SiPM shows irregular behavior for relative overvoltages above 02 for the two lowest temperatures We attribute that behavior to delayed optical crosstalk leaking into the afterpulsing measurement due to our choice of discriminating between the two by means of applying a simple cut in time  At the same 90 breakdown-probability yielding bias the delayed OC changes from 001 at 40C to 1 at 75C for the KETEK SiPM The temperature dependence is not that strong in the Hamamatsu SiPM where the delayed OC is 35 at 20C and increases by a factor of 13 to 45 at 75C We discard the delayed OC measurement at 40C for the same reason we discarded the prompt OC measurement at the same temperature  Below relative overvoltages of 015 afterpulsing and delayed OC of the KETEK device are so low that the measurement is affected by systematic effects Only at higher overvoltages is it possible to resolve the expected temperature dependence of the delayed optical crosstalk The dependence is due to an increase of the carrier life times in the bulk with decreasing temperatures  Comparing the prompt and delayed OC performance of both devices has us speculate about possible future improvements of both technologies The about ten times lower delayed OC of the KETEK device is an indication that it should be in principle possible to lower the delayed OC in the Hamamatsu technology further If a lower delayed OC is achieved in the Hamamatsu technology and our assertion that the prompt OC in the present Hamamatsu device is due to misidentified delayed OC events the effectively measured prompt OC should go down as well On the other hand it can be expected that future KETEK developments with trenches will be able to achieve a similar if not better prompt OC performance than observed in the Hamamatsu SiPM 6 Discussion In this work we characterized one prototype SiPM from Hamamatsu and the PM3325 WB SiPM from KETEK Both SiPMs have dramatically improved characteristics when compared to previous devices The PDE of both devices peaks between 40 and 50 and nuisance parameters are significantly reduced In particular impressive is the 15 prompt optical crosstalk of the Hamamatsu device which is four times lower than in the Hamamatsu LCT5 device 10 Equally impressive are the low afterpulsing and delayed optical crosstalk of the KETEK device which are both less than 1 A device that combines the excellent features of both SiPMs would result in another significant improvement in the SiPM technology  Analysis methods that probe the microphysics of SiPMs help to understand how SiPMs work and ultimately provide input in the design of future SiPM developments For that purpose we discussed how the vertical structure of the high-field region is mapped with bias dependent breakdown probability measurements and how such a mapping can be utilized to learn about the origin of charge carriers relative to the avalanche structure Using the method we could show that the prompt OC producing photons in the Hamamatsu SiPM must be absorbed below the avalanche structure contrary to the LCT5 device where the majority of OC photons enter the avalanche region from the surface side In the KETEK device the optical-crosstalk photons illuminate the avalanche region of a neighboring cell from the side This information will help to further improve the prompt OC performance in future devices We are not aware of another experimental method that provides the same information  The O-method could also be used to identify the spatial origin of charge carriers produced by delayed optical crosstalk afterpulsing and dark counts relative to the avalanche region However two requirements need to be fulfilled first A valid model has to exist that properly describes the bias dependence of the characteristic of interest and includes the breakdown probability And the measurement cannot be contaminated like for example our delayed optical crosstalk measurement which also includes some afterpulsing events Unless of course the model takes these contaminations into account too  The empirical mapping of the O values obtained in PDE measurements to the photon absorption length allowed us to determine how far below the surface the avalanche region is located However because we have no access to the structure of the studied devices we cannot verify the absolute accuracy of the mapping and the dependence of O on the size of the avalanche region To verify that assumption and for a more precise probing of the high-field structure dedicated test structures are needed for calibration The main parameters to vary in these structures are the size of the region and its location below the surface  Analytical modeling that links O to the microphysics of the breakdown like the ionization coefficients and the electronhole breakdown initiation ratio would further improve the understanding of SiPMs and expand the usability of the method We hope that this paper inspires future work in that direction '"
      ]
     },
     "execution_count": 103,
     "metadata": {},
     "output_type": "execute_result"
    }
   ],
   "source": [
    "out[4]"
   ]
  },
  {
   "cell_type": "code",
   "execution_count": 93,
   "metadata": {},
   "outputs": [
    {
     "data": {
      "text/plain": [
       "dict_keys(['sizes', 'texts', 'categories', 'textblocks', 'color_picker_params'])"
      ]
     },
     "execution_count": 93,
     "metadata": {},
     "output_type": "execute_result"
    }
   ],
   "source": [
    "data.keys()"
   ]
  },
  {
   "cell_type": "code",
   "execution_count": 95,
   "metadata": {},
   "outputs": [
    {
     "data": {
      "text/plain": [
       "['Title',\n",
       " 'Abstract',\n",
       " 'Keywords',\n",
       " 'Introduction',\n",
       " 'Body',\n",
       " 'Acknowledgment',\n",
       " 'References',\n",
       " 'Authors']"
      ]
     },
     "execution_count": 95,
     "metadata": {},
     "output_type": "execute_result"
    }
   ],
   "source": [
    "data[\"color_picker_params\"][\"names\"]"
   ]
  },
  {
   "cell_type": "code",
   "execution_count": 92,
   "metadata": {},
   "outputs": [
    {
     "data": {
      "text/plain": [
       "[[0, 1, 2, 3, 3, 4, 4, 7],\n",
       " [4, 4, 4, 4, 4],\n",
       " [4, 4],\n",
       " [4, 4, 4, 4],\n",
       " [4, 4, 4],\n",
       " [4, 4, 4, 4],\n",
       " [4, 4, 4, 4],\n",
       " [4, 4, 5, 6, 6, 6, 6],\n",
       " [6, 6, 6, 6, 6, 6, 6, 6, 6, 6, 6, 6, 6, 6, 6, 6, 6]]"
      ]
     },
     "execution_count": 92,
     "metadata": {},
     "output_type": "execute_result"
    }
   ],
   "source": [
    "data[\"categories\"]"
   ]
  },
  {
   "cell_type": "code",
   "execution_count": 90,
   "metadata": {},
   "outputs": [
    {
     "data": {
      "text/plain": [
       "'linear coefficient in the expansion is O the constant term is obviously zero or so small that it is not relevant higher order terms can be relevant 12 O thus parameterizes the electric field dependence of the breakdown which as we have discussed above does not depend much on the device specifics O can thus be compared between devices contrary to the absolute voltage when the breakdown probability reaches 95  But the breakdown probability depends strongly on whether an avalanche is initiated by electrons or holes and it is therefore expected that O changes with changing electronhole breakdown initiation ratio Figure 3 shows the breakdown probability derived from the PDE measurements ie the PDE divided by PDE ax The solid lines depict the best fit parameterizations of the breakdown probability which all yield fit probabilities of 30 or better The fitted values of O are listed in Table I together with the corresponding photon absorption lengths The 589 nm light source was not available for the measurement of the Hamamatsu device  The value of O decreases with increasing photon wavelength for each device which is a testimony to the fact that the breakdown probability shifts from majority electron to majority hole initiated breakdowns O thus shows a clear dependence on the ratio of electron to hole initiated breakdowns  The absolute value of O should also depend on the dimensions of the avalanche region which we do not know and thus cannot explore further For the time being we resort to the assumption that the dependence of O on the width of the avalanche region is small compared to the observed change with photon-wavelength and can be neglected How valid that assumption is needs to be shown in the future on devices with known dimensions of the high field region The avalanche regions of the two tested devices probably have fairly similar widths which we infer from the similarities of their respective breakdown voltages which are 268 V and 375 V at 0C for the KETEK and Hamamatsu SiPM respectively  For the Hamamatsu device O is 12 for photon absorption lengths of 09 zm while the KETEK SiPM yields the same number for absorption lengths of 04 um If the difference in absorption lengths is taken at face value and O does not '"
      ]
     },
     "execution_count": 90,
     "metadata": {},
     "output_type": "execute_result"
    }
   ],
   "source": [
    "s = data[\"texts\"][2][1]\n",
    "clean(s)"
   ]
  },
  {
   "cell_type": "code",
   "execution_count": 69,
   "metadata": {},
   "outputs": [
    {
     "name": "stdout",
     "output_type": "stream",
     "text": [
      "linear coefficient in the expansion is O, the constant term\n",
      "is obviously zero or so small that it is not relevant, higher\n",
      "order terms can be relevant [12]. O thus parameterizes\n",
      "the electric field dependence of the breakdown, which as\n",
      "we have discussed above does not depend much on the de-\n",
      "vice specifics. O can thus be compared between devices,\n",
      "contrary to the absolute voltage when the breakdown prob-\n",
      "ability reaches 95%.\n",
      "\n",
      "But the breakdown probability depends strongly on\n",
      "whether an avalanche is initiated by electrons or holes and\n",
      "it is, therefore, expected that O changes with changing\n",
      "electron/hole breakdown initiation ratio. Figure |3] shows\n",
      "the breakdown probability derived from the PDE mea-\n",
      "surements, i.e. the PDE divided by PDE ax. The solid\n",
      "lines depict the best fit parameterizations of the break-\n",
      "down probability, which all yield fit probabilities of 30%\n",
      "or better. The fitted values of O are listed in Table [I] to-\n",
      "gether with the corresponding photon absorption lengths.\n",
      "The 589 nm light source was not available for the measure-\n",
      "ment of the Hamamatsu device.\n",
      "\n",
      "The value of O decreases with increasing photon wave-\n",
      "length for each device, which is a testimony to the fact\n",
      "that the breakdown probability shifts from majority elec-\n",
      "tron to majority hole initiated breakdowns. O thus shows\n",
      "a clear dependence on the ratio of electron to hole initiated\n",
      "breakdowns.\n",
      "\n",
      "The absolute value of O should also depend on the di-\n",
      "mensions of the avalanche region, which we do not know\n",
      "and thus cannot explore further. For the time being, we\n",
      "resort to the assumption that the dependence of O on the\n",
      "width of the avalanche region is small compared to the\n",
      "observed change with photon-wavelength and can be ne-\n",
      "glected. How valid that assumption is needs to be shown\n",
      "in the future on devices with known dimensions of the high\n",
      "field region. The avalanche regions of the two tested de-\n",
      "vices probably have fairly similar widths, which we infer\n",
      "from the similarities of their respective breakdown volt-\n",
      "ages, which are 26.8 V and 37.5 V at 0°C for the KETEK\n",
      "and Hamamatsu SiPM, respectively.\n",
      "\n",
      "For the Hamamatsu device O is 12 for photon absorption\n",
      "lengths of 0.9 zm while the KETEK SiPM yields the same\n",
      "number for absorption lengths of 0.4 um. If the difference\n",
      "in absorption lengths is taken at face value and O does not\n",
      "\f",
      "\n"
     ]
    }
   ],
   "source": [
    "print(data[\"texts\"][2][1])"
   ]
  },
  {
   "cell_type": "code",
   "execution_count": null,
   "metadata": {},
   "outputs": [],
   "source": []
  }
 ],
 "metadata": {
  "kernelspec": {
   "display_name": "Python 3",
   "language": "python",
   "name": "python3"
  },
  "language_info": {
   "codemirror_mode": {
    "name": "ipython",
    "version": 3
   },
   "file_extension": ".py",
   "mimetype": "text/x-python",
   "name": "python",
   "nbconvert_exporter": "python",
   "pygments_lexer": "ipython3",
   "version": "3.8.2"
  }
 },
 "nbformat": 4,
 "nbformat_minor": 4
}
