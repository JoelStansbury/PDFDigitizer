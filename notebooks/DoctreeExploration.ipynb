{
 "cells": [
  {
   "cell_type": "code",
   "execution_count": 10,
   "metadata": {},
   "outputs": [],
   "source": [
    "from pathlib import Path\n",
    "import json\n",
    "import spacy\n",
    "import numpy as np\n",
    "import networkx as nx\n",
    "from pyvis.network import Network\n",
    "import pandas as pd\n",
    "\n",
    "from pdf_annotation import DataNode, TreeWidget, App"
   ]
  },
  {
   "cell_type": "code",
   "execution_count": 11,
   "metadata": {},
   "outputs": [],
   "source": [
    "# load in an NLP model for demonstration\n",
    "nlp = spacy.load(\"en_core_web_lg\")"
   ]
  },
  {
   "cell_type": "code",
   "execution_count": 12,
   "metadata": {},
   "outputs": [],
   "source": [
    "def loadf(path):\n",
    "    \"\"\"load a json file into a python dict\"\"\"\n",
    "    with open(path) as f:\n",
    "        data = json.load(f)\n",
    "    return data"
   ]
  },
  {
   "cell_type": "code",
   "execution_count": 13,
   "metadata": {},
   "outputs": [],
   "source": [
    "# load the digital representation of all processed documents created using the PdfDigitizer\n",
    "doctrees = [DataNode(loadf(x)) for x in Path(\"C:\\git\\PDFDigitizer\\pdfs\").rglob(\"*.json\")][1:]"
   ]
  },
  {
   "cell_type": "markdown",
   "metadata": {},
   "source": [
    "## Indexing\n",
    "Here, is an example of indexing a __DataNode__ object. `doctrees` is a list of DataNodes. Each element represents the entire text of a pdf document.<br>\n",
    "The following cells use the `2020abrams-m1a2.pdf` as an example to...\n",
    "1. Summarize the document heirarchy (as encoded via the PdfDigitizer tool) in the form of a __Table of Contents__, naturally.\n",
    "2. Perform __DepthFirstSearch__ to return and print out the section titled \"Recommendations\""
   ]
  },
  {
   "cell_type": "code",
   "execution_count": 14,
   "metadata": {},
   "outputs": [
    {
     "data": {
      "text/plain": [
       "../pdfs/ARMY/2020assured-pnt.pdf\n",
       "  Assured — Positioning, Navigation, & Timing\n",
       "(Assured — PNT)\n",
       "    Executive Summary\n",
       "    System\n",
       "    Mission\n",
       "    Major Contractors\n",
       "      DAPS GEN 1.0\n",
       "      ALTNAV (DAPS GEN 1.1)\n",
       "      MAPS GEN I and GEN I.X\n",
       "      MAPS GEN II\n",
       "    Activity\n",
       "    Assessment\n",
       "    Recommendation\n",
       "      Army"
      ]
     },
     "execution_count": 14,
     "metadata": {},
     "output_type": "execute_result"
    }
   ],
   "source": [
    "doctrees[3] # the __repr__ function returns a plain-text table of contents"
   ]
  },
  {
   "cell_type": "code",
   "execution_count": 15,
   "metadata": {},
   "outputs": [
    {
     "name": "stdout",
     "output_type": "stream",
     "text": [
      "The Army should:\n",
      "\n",
      "1. Evaluate the survivability of the Abrams SEPv3 with\n",
      "Trophy APS against the most stressing threats identified by\n",
      "the Intelligence Community .\n",
      "\n",
      "2. Develop operationally relevant requirements for the Abrams\n",
      "M1A2 tank with and without the Trophy APS.\n",
      "\n",
      "3. Continue to develop and advance the appropriate modeling\n",
      "and simulation tools needed to support the test planning and\n",
      "evaluation of systems equipped with APS.\n",
      "\n",
      "4. Consider the findings of the DOT&E and Army LFT&E\n",
      "SEPv3 evaluation reports to enhance the survivability of\n",
      "future Abrams tank upgrades\n",
      "\f",
      "\n"
     ]
    }
   ],
   "source": [
    "path, subtree = doctrees[0].search(\"Recommendations\")\n",
    "print(subtree.to_string(include_labels=False))"
   ]
  },
  {
   "cell_type": "markdown",
   "metadata": {},
   "source": [
    "## Mission Similarity\n",
    "\n",
    "The documents we have are all very similarly structured, they all have sections titled \"Executive Summary\", \"Activity\", \"Mission\", \"Recommendations\",...  <br>\n",
    "In the cells below, we will utilize the indexing capability to compare the \"Mission\" specified in each of the documents.  <br>\n",
    "The comparison metric is essentially a bag of words analysis. The structure we made using the PdfDigitizer allows for precise application to include only the sections titled \"Mission\" <br>\n",
    "An edge is drawn between any 2 documents which acheive a Mission-similarity score > %95. <br>\n",
    "Though, a more useful approach might involve a clustering algorithm to find cliches."
   ]
  },
  {
   "cell_type": "code",
   "execution_count": 17,
   "metadata": {},
   "outputs": [
    {
     "data": {
      "text/html": [
       "\n",
       "        <iframe\n",
       "            width=\"500px\"\n",
       "            height=\"500px\"\n",
       "            src=\"doc_network.html\"\n",
       "            frameborder=\"0\"\n",
       "            allowfullscreen\n",
       "        ></iframe>\n",
       "        "
      ],
      "text/plain": [
       "<IPython.lib.display.IFrame at 0x12858ab4670>"
      ]
     },
     "execution_count": 17,
     "metadata": {},
     "output_type": "execute_result"
    }
   ],
   "source": [
    "system_descriptions = [doc.search(\"Mission\") for doc in doctrees] # get the node titled \"Mission\" from each document\n",
    "docs = [nlp(node.to_string(include_labels=False)) for path, node in system_descriptions if node is not None] # use spacy to process all of the text within the nodes\n",
    "N = len(docs)\n",
    "\n",
    "edgelist = []\n",
    "\n",
    "for i in range(N):\n",
    "    for j in range(i+1, N):\n",
    "        if docs[i].similarity(docs[j]) > .95:\n",
    "            edgelist.append({\"source\":doctrees[i].label, \"target\":doctrees[j].label})\n",
    "\n",
    "# Draw the network\n",
    "df = pd.DataFrame(edgelist)\n",
    "g = nx.from_pandas_edgelist(df, source='source',target='target')\n",
    "net = Network(notebook=True)\n",
    "net.from_nx(g)\n",
    "net.show_buttons(filter_=['physics'])\n",
    "net.show(\"doc_network.html\")"
   ]
  },
  {
   "cell_type": "code",
   "execution_count": null,
   "metadata": {},
   "outputs": [],
   "source": [
    "# App(\"../pdfs/DOD/2020f35jsf.pdf\") # Opens a pdf in the digitizer tool"
   ]
  },
  {
   "cell_type": "code",
   "execution_count": 19,
   "metadata": {},
   "outputs": [],
   "source": [
    "system_descriptions = [doc.search(\"Executive Summary\") for doc in doctrees] # get the node titled \"Mission\" from each document\n",
    "docs = [nlp(node.to_string(include_labels=False)) for path, node in system_descriptions if node is not None] # use spacy to process all of the text within the nodes"
   ]
  },
  {
   "cell_type": "code",
   "execution_count": 20,
   "metadata": {
    "collapsed": true,
    "jupyter": {
     "outputs_hidden": true
    }
   },
   "outputs": [
    {
     "name": "stdout",
     "output_type": "stream",
     "text": [
      "Army\n",
      "the Abrams M1A2\n",
      "System Enhancement Package\n",
      "3\n",
      "Main Battl\n",
      "MBT\n",
      "Fort Hood\n",
      "Texas\n",
      "May 8 — 10, 2019\n",
      "the Abrams M1A2\n",
      "The Abrams M1A2\n",
      "SEPv3\n",
      "1QFY20\n",
      "Army\n",
      "Abrams M1A2 SEPv3\n",
      "December 2020\n",
      "Army\n",
      "the Abrams\n",
      "SEPv4 Test and Evaluation Master Plan\n",
      "2QFY21\n",
      "June 2020\n",
      "the Abrams SEPv2 with Trophy Active\n",
      "Protection System\n",
      "APS\n",
      "FY19\n",
      "Army\n",
      "Abrams\n",
      "SEPv3 with\n",
      "Trophy APS\n",
      "2QFY21\n",
      "4QFY21\n"
     ]
    }
   ],
   "source": [
    "doc = docs[0]\n",
    "for phrase in doc.ents:\n",
    "    print(phrase)"
   ]
  },
  {
   "cell_type": "markdown",
   "metadata": {},
   "source": [
    "## Contractors\n",
    "This section utilizes spacy's entity recognition model to extract the organizations refered to within the Major Contractors section of each document"
   ]
  },
  {
   "cell_type": "code",
   "execution_count": 21,
   "metadata": {},
   "outputs": [],
   "source": [
    "system_descriptions = [doc.search(\"Major Contractors\") for doc in doctrees] + [doc.search(\"Major Contractor\") for doc in doctrees]\n",
    "docs = [nlp(\" \".join(node.to_string(include_labels=False).replace(\"¢\",\"\").replace(\"\\n\", \".\").split())) for path, node in system_descriptions if node is not None]"
   ]
  },
  {
   "cell_type": "code",
   "execution_count": 22,
   "metadata": {},
   "outputs": [],
   "source": [
    "contractors = set()\n",
    "\n",
    "for doc in docs:\n",
    "    for ent in doc.ents:\n",
    "#         print(\"#\"*100)\n",
    "#         print(doc)\n",
    "#         print(\"-\"*50)\n",
    "        if ent.label_ == \"ORG\":\n",
    "#             print(str(ent))\n",
    "            contractors.add(str(ent))"
   ]
  },
  {
   "cell_type": "code",
   "execution_count": 23,
   "metadata": {},
   "outputs": [
    {
     "data": {
      "text/plain": [
       "['Accenture Federal Services',\n",
       " 'Anniston Army Depot',\n",
       " 'Austal USA — Mobile',\n",
       " 'BAE Systems',\n",
       " 'BAE Systems Land and Armaments',\n",
       " 'Bell Helicopter',\n",
       " 'Bell-Boeing Joint Venture',\n",
       " 'Boeing Defense, Space',\n",
       " 'Boeing Helicopter Company',\n",
       " 'Chemring Sensors and Electronic Systems',\n",
       " 'Collins Aerospace',\n",
       " 'DISA',\n",
       " 'DRS/Rafael — St. Louis',\n",
       " 'Defensive Systems',\n",
       " 'Electronic Systems',\n",
       " 'Fincantieri Marinette Marine Corporation',\n",
       " 'Fire Control',\n",
       " 'GPS Source Inc.',\n",
       " 'General Dynamics Information Technology',\n",
       " 'General Dynamics Land Systems',\n",
       " 'General Dynamics Marine Systems Bath Iron Works',\n",
       " 'General Dynamics Mission',\n",
       " 'General Dynamics Mission Systems',\n",
       " 'General Electric Aviation — Evendale',\n",
       " 'General Motors Defense']"
      ]
     },
     "execution_count": 23,
     "metadata": {},
     "output_type": "execute_result"
    }
   ],
   "source": [
    "sorted(contractors)[:25]"
   ]
  },
  {
   "cell_type": "code",
   "execution_count": null,
   "metadata": {},
   "outputs": [],
   "source": []
  }
 ],
 "metadata": {
  "kernelspec": {
   "display_name": "Python 3 (ipykernel)",
   "language": "python",
   "name": "python3"
  },
  "language_info": {
   "codemirror_mode": {
    "name": "ipython",
    "version": 3
   },
   "file_extension": ".py",
   "mimetype": "text/x-python",
   "name": "python",
   "nbconvert_exporter": "python",
   "pygments_lexer": "ipython3",
   "version": "3.9.7"
  }
 },
 "nbformat": 4,
 "nbformat_minor": 4
}
