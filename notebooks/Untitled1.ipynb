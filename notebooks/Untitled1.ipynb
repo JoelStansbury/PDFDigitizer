{
 "cells": [
  {
   "cell_type": "code",
   "execution_count": 1,
   "metadata": {},
   "outputs": [],
   "source": [
    "from tree import DataNode, TreeWidget"
   ]
  },
  {
   "cell_type": "code",
   "execution_count": 2,
   "metadata": {},
   "outputs": [
    {
     "data": {
      "text/plain": [
       "root\n",
       "  child\n",
       "    lowest\n",
       "    also lowest\n",
       "      just kidding I'm the lowest\n",
       "  not the lowest"
      ]
     },
     "execution_count": 2,
     "metadata": {},
     "output_type": "execute_result"
    }
   ],
   "source": [
    "a = DataNode(\"root\")\n",
    "\n",
    "a.add(\"child\")\n",
    "a[0].add(\"lowest\")\n",
    "a[0].add(\"also lowest\")\n",
    "a[0,1].add(\"just kidding I'm the lowest\")\n",
    "a.add(\"not the lowest\")\n",
    "\n",
    "a"
   ]
  },
  {
   "cell_type": "code",
   "execution_count": 3,
   "metadata": {},
   "outputs": [],
   "source": [
    "w = TreeWidget(a)"
   ]
  },
  {
   "cell_type": "code",
   "execution_count": 4,
   "metadata": {},
   "outputs": [
    {
     "data": {
      "application/vnd.jupyter.widget-view+json": {
       "model_id": "8222b9badfef46e4be2aab153cefb7e7",
       "version_major": 2,
       "version_minor": 0
      },
      "text/plain": [
       "TreeWidget(children=(Accordion(children=(TreeWidget(children=(Accordion(children=(TreeWidget(children=(Accordi…"
      ]
     },
     "metadata": {},
     "output_type": "display_data"
    }
   ],
   "source": [
    "w"
   ]
  },
  {
   "cell_type": "code",
   "execution_count": null,
   "metadata": {},
   "outputs": [],
   "source": []
  }
 ],
 "metadata": {
  "kernelspec": {
   "display_name": "Python 3",
   "language": "python",
   "name": "python3"
  },
  "language_info": {
   "codemirror_mode": {
    "name": "ipython",
    "version": 3
   },
   "file_extension": ".py",
   "mimetype": "text/x-python",
   "name": "python",
   "nbconvert_exporter": "python",
   "pygments_lexer": "ipython3",
   "version": "3.8.2"
  }
 },
 "nbformat": 4,
 "nbformat_minor": 4
}
