{
 "cells": [
  {
   "cell_type": "code",
   "execution_count": null,
   "metadata": {},
   "outputs": [],
   "source": [
    "from pdf_annotation import App\n",
    "app = App(f\"../pdfs\", bulk_render=False)\n",
    "app"
   ]
  },
  {
   "cell_type": "code",
   "execution_count": null,
   "metadata": {},
   "outputs": [],
   "source": [
    "for node in app.tree_visualizer.root.dfs():\n",
    "    # do something with the node\n",
    "    # node._path (path to pdf file)\n",
    "    # node._type (one of: \"pdf\", \"folder\", \"text\", \"section\", or \"image\")\n",
    "    # node.content (list of dicts for every box drawn with this node selected)\n",
    "        # {\n",
    "        #     \"value\":\n",
    "        #     \"page\":\n",
    "        #     \"coords\":\n",
    "        # }\n",
    "    print(node.label, node._type)"
   ]
  },
  {
   "cell_type": "markdown",
   "metadata": {},
   "source": [
    "## "
   ]
  }
 ],
 "metadata": {
  "interpreter": {
   "hash": "9e136513eca12b0ababf41794ea3eddf1f8d8471da0f15a69b9d19b1c9c269e5"
  },
  "kernelspec": {
   "display_name": "Python 3 (ipykernel)",
   "language": "python",
   "name": "python3"
  },
  "language_info": {
   "codemirror_mode": {
    "name": "ipython",
    "version": 3
   },
   "file_extension": ".py",
   "mimetype": "text/x-python",
   "name": "python",
   "nbconvert_exporter": "python",
   "pygments_lexer": "ipython3",
   "version": "3.9.7"
  }
 },
 "nbformat": 4,
 "nbformat_minor": 4
}
