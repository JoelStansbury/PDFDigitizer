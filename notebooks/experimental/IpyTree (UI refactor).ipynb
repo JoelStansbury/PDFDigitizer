{
 "cells": [
  {
   "cell_type": "code",
   "execution_count": 1,
   "id": "23f8ef21-c9b8-403a-af75-963c9de42003",
   "metadata": {},
   "outputs": [],
   "source": [
    "from ipytree import Tree\n",
    "import json\n",
    "from pathlib import Path\n",
    "from pdf_annotation import App"
   ]
  },
  {
   "cell_type": "code",
   "execution_count": 3,
   "id": "723121c5",
   "metadata": {},
   "outputs": [],
   "source": [
    "sm = \"../../pdfs/paper.json\"\n",
    "lg = \"../../pdfs/2020jagm.json\"\n",
    "with open(lg,\"r\") as f:\n",
    "    data = json.load(f)"
   ]
  },
  {
   "cell_type": "code",
   "execution_count": 4,
   "id": "6fae14aa",
   "metadata": {},
   "outputs": [],
   "source": [
    "def clean(node):\n",
    "    if \"label\" in node:\n",
    "        node[\"type\"] = \"section\"\n",
    "        for n in node[\"children\"]:\n",
    "            if \"type\" in n and n[\"type\"] == \"label\":\n",
    "                node[\"value\"] = n[\"value\"]\n",
    "                node[\"coords\"] = n[\"coords\"]\n",
    "                node[\"page\"] = n[\"page\"]\n",
    "                node[\"children\"] = [\n",
    "                    n for n in node[\"children\"] \n",
    "                    if not (\"type\" in n and n[\"type\"]==\"label\")\n",
    "                    ]\n",
    "                break\n",
    "        else:\n",
    "            node[\"value\"] = node[\"label\"]\n",
    "        \n",
    "\n",
    "    if not \"children\" in node:\n",
    "        node[\"children\"] = []\n",
    "\n",
    "\n",
    "    if \"content\" in node:\n",
    "        node[\"children\"] = node[\"content\"] + node[\"children\"]\n",
    "\n",
    "    for n in node[\"children\"]:\n",
    "        clean(n)\n",
    "    "
   ]
  },
  {
   "cell_type": "code",
   "execution_count": 5,
   "id": "d4f6ff97",
   "metadata": {},
   "outputs": [],
   "source": [
    "\n",
    "clean(data)"
   ]
  },
  {
   "cell_type": "code",
   "execution_count": 6,
   "id": "9801d3da",
   "metadata": {},
   "outputs": [],
   "source": [
    "NODE_TYPES = {}\n",
    "MAX_LEN = 20"
   ]
  },
  {
   "cell_type": "code",
   "execution_count": 7,
   "id": "84ebaa3a",
   "metadata": {},
   "outputs": [],
   "source": [
    "from ipytree import Node\n",
    "\n",
    "\n",
    "class MyNode(Node):\n",
    "    def __init__(self, data=None):\n",
    "        super().__init__()\n",
    "        if data:\n",
    "            self.load(data)\n",
    "    def load(self, data):\n",
    "        for child in data[\"children\"]:\n",
    "            if not child[\"type\"] in \"labeltable\":\n",
    "                self.add_node(NODE_TYPES[child[\"type\"]](child))\n",
    "    def collapse(self):\n",
    "        self.opened = False\n",
    "    def expand(self):\n",
    "        self.opened = True\n",
    "        \n",
    "    def collapse_all(self):\n",
    "        self.collapse()\n",
    "        for n in self.nodes:\n",
    "            n.collapse_all()\n",
    "    def collapse_to(self, level):\n",
    "        if level == 0:\n",
    "            self.collapse_all()\n",
    "        else:\n",
    "            self.expand()\n",
    "            for n in self.nodes:\n",
    "                n.collapse_to(level-1)\n",
    "\n",
    "\n",
    "class SectionNode(MyNode):\n",
    "    def __init__(self, data=None):\n",
    "        super().__init__(data)\n",
    "        self.value = data.get(\"value\",\"\")\n",
    "        ellipsis = \"...\" if len(self.value)>MAX_LEN else \"\"\n",
    "        self.name = self.value[:MAX_LEN] + ellipsis\n",
    "\n",
    "class TextNode(MyNode):\n",
    "    def __init__(self, data=None):\n",
    "        super().__init__(data)\n",
    "        self.value = data.get(\"value\",\"\")\n",
    "        ellipsis = \"...\" if len(self.value)>MAX_LEN else \"\"\n",
    "        self.name = self.value[:MAX_LEN] + ellipsis\n",
    "        self.icon = \"align-left\"\n",
    "\n",
    "class ImageNode(MyNode):\n",
    "    def __init__(self, data=None):\n",
    "        super().__init__(data)\n",
    "        self.value = data.get(\"value\",\"\")\n",
    "        self.name = \"img\"\n",
    "        self.icon = \"image\"\n",
    "\n",
    "NODE_TYPES = {\n",
    "    \"section\": SectionNode,\n",
    "    \"text\": TextNode,\n",
    "    \"image\": ImageNode,\n",
    "}\n",
    "    "
   ]
  },
  {
   "cell_type": "code",
   "execution_count": 8,
   "id": "d62bad5c-a06f-4604-b5ab-1301288c6faf",
   "metadata": {},
   "outputs": [
    {
     "data": {
      "application/vnd.jupyter.widget-view+json": {
       "model_id": "6529835acffd475cb81c94c90117b61c",
       "version_major": 2,
       "version_minor": 0
      },
      "text/plain": [
       "Tree(nodes=(SectionNode(name='../pdfs/ARMY/2020jag...', nodes=(SectionNode(name='Joint Air-to-Ground ...', nod…"
      ]
     },
     "metadata": {},
     "output_type": "display_data"
    }
   ],
   "source": [
    "tree = Tree(stripes=True)\n",
    "my_node = SectionNode(data)\n",
    "tree.add_node(my_node)\n",
    "my_node.collapse_to(2)\n",
    "tree"
   ]
  },
  {
   "cell_type": "code",
   "execution_count": 10,
   "id": "c8a3fc66-4132-4310-a395-290ee58c2e43",
   "metadata": {},
   "outputs": [
    {
     "data": {
      "text/plain": [
       "(SectionNode(name='Mission', nodes=(TextNode(icon='align-left', name='Army and Marine Corp...', opened=False),), opened=False, selected=True),)"
      ]
     },
     "execution_count": 10,
     "metadata": {},
     "output_type": "execute_result"
    }
   ],
   "source": [
    "tree.selected_nodes"
   ]
  },
  {
   "cell_type": "code",
   "execution_count": 9,
   "id": "fcbb0e46",
   "metadata": {},
   "outputs": [],
   "source": [
    "my_node.collapse_to(2)"
   ]
  },
  {
   "cell_type": "code",
   "execution_count": null,
   "id": "0615ef2c",
   "metadata": {},
   "outputs": [],
   "source": [
    "text = \" \".join([x[\"value\"] for x in data[\"children\"][0][\"children\"][-1][\"children\"][22][\"children\"] if x[\"type\"] == \"text\"])"
   ]
  },
  {
   "cell_type": "code",
   "execution_count": null,
   "id": "386ef0b5",
   "metadata": {},
   "outputs": [],
   "source": [
    "import spacy\n",
    "nlp = spacy.load(\"en_core_web_lg\")\n",
    "doc = nlp(\" \".join([x[\"value\"] for x in data[\"children\"][0][\"children\"][-1][\"children\"][22][\"children\"] if x[\"type\"] == \"text\"]))\n",
    "for ent in doc.ents:\n",
    "    print(ent)"
   ]
  },
  {
   "cell_type": "code",
   "execution_count": null,
   "id": "ed152ca5",
   "metadata": {},
   "outputs": [],
   "source": [
    "for ent in doc.noun_chunks:\n",
    "    print(ent)"
   ]
  },
  {
   "cell_type": "code",
   "execution_count": null,
   "id": "f4041d82",
   "metadata": {},
   "outputs": [],
   "source": [
    "recipies = [\n",
    "    [\" \".join([x['value'] for x in r[\"children\"] if x['type'] == 'text']) for r in section[\"children\"]]\n",
    "    for section in  data[\"children\"][0][\"children\"][2:]\n",
    "]\n",
    "\n",
    "names = [\n",
    "    [\" \".join([x['value'] for x in r[\"children\"] if x['type'] == 'label']).strip() for r in section[\"children\"]]\n",
    "    for section in  data[\"children\"][0][\"children\"][2:]\n",
    "]\n",
    "\n",
    "sections = [\n",
    "    [r[\"value\"] for r in section[\"children\"] if r['type'] == 'label'][0]\n",
    "    for section in  data[\"children\"][0][\"children\"][2:]\n",
    "]"
   ]
  },
  {
   "cell_type": "code",
   "execution_count": null,
   "id": "6d57f13b",
   "metadata": {},
   "outputs": [],
   "source": [
    "sections"
   ]
  },
  {
   "cell_type": "code",
   "execution_count": null,
   "id": "58d76af4",
   "metadata": {},
   "outputs": [],
   "source": [
    "for i,s in enumerate(names):\n",
    "    names[i] = [f\"{sections[i]}>{n}\" for n in s]"
   ]
  },
  {
   "cell_type": "code",
   "execution_count": null,
   "id": "944d8684",
   "metadata": {},
   "outputs": [],
   "source": [
    "recipies = [nlp(x) for x in sum(recipies,[])]\n",
    "names = sum(names,[])"
   ]
  },
  {
   "cell_type": "code",
   "execution_count": null,
   "id": "821bb777",
   "metadata": {},
   "outputs": [],
   "source": []
  }
 ],
 "metadata": {
  "interpreter": {
   "hash": "9e136513eca12b0ababf41794ea3eddf1f8d8471da0f15a69b9d19b1c9c269e5"
  },
  "kernelspec": {
   "display_name": "Python 3 (ipykernel)",
   "language": "python",
   "name": "python3"
  },
  "language_info": {
   "codemirror_mode": {
    "name": "ipython",
    "version": 3
   },
   "file_extension": ".py",
   "mimetype": "text/x-python",
   "name": "python",
   "nbconvert_exporter": "python",
   "pygments_lexer": "ipython3",
   "version": "3.9.7"
  }
 },
 "nbformat": 4,
 "nbformat_minor": 5
}
