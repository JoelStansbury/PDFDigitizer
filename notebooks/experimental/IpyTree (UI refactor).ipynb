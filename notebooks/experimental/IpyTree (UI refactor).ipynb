{
 "cells": [
  {
   "cell_type": "code",
   "execution_count": 1,
   "id": "23f8ef21-c9b8-403a-af75-963c9de42003",
   "metadata": {},
   "outputs": [],
   "source": [
    "from ipytree import Tree, Node"
   ]
  },
  {
   "cell_type": "code",
   "execution_count": 2,
   "id": "d62bad5c-a06f-4604-b5ab-1301288c6faf",
   "metadata": {},
   "outputs": [
    {
     "data": {
      "application/vnd.jupyter.widget-view+json": {
       "model_id": "fe0c7ec1f0404a47993c8bd3537ff933",
       "version_major": 2,
       "version_minor": 0
      },
      "text/plain": [
       "Tree()"
      ]
     },
     "metadata": {},
     "output_type": "display_data"
    }
   ],
   "source": [
    "tree = Tree(stripes=True)\n",
    "tree"
   ]
  },
  {
   "cell_type": "code",
   "execution_count": 3,
   "id": "feae6893-96d4-4b2d-a502-c0af5874d050",
   "metadata": {},
   "outputs": [],
   "source": [
    "node1 = Node('node1')\n",
    "tree.add_node(node1)"
   ]
  },
  {
   "cell_type": "code",
   "execution_count": null,
   "id": "5e74f1fe-20c1-4eb2-9e42-c8e8ac1a1608",
   "metadata": {},
   "outputs": [],
   "source": []
  }
 ],
 "metadata": {
  "kernelspec": {
   "display_name": "Python 3 (ipykernel)",
   "language": "python",
   "name": "python3"
  },
  "language_info": {
   "codemirror_mode": {
    "name": "ipython",
    "version": 3
   },
   "file_extension": ".py",
   "mimetype": "text/x-python",
   "name": "python",
   "nbconvert_exporter": "python",
   "pygments_lexer": "ipython3",
   "version": "3.9.7"
  }
 },
 "nbformat": 4,
 "nbformat_minor": 5
}
