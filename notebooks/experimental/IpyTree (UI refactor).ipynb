{
 "cells": [
  {
   "cell_type": "code",
   "execution_count": 280,
   "id": "23f8ef21-c9b8-403a-af75-963c9de42003",
   "metadata": {},
   "outputs": [],
   "source": [
    "from ipytree import Tree\n",
    "import json\n",
    "from pathlib import Path"
   ]
  },
  {
   "cell_type": "code",
   "execution_count": 281,
   "metadata": {},
   "outputs": [],
   "source": [
    "sm = \"../../pdfs/paper.json\"\n",
    "lg = \"../../pdfs/loc-ark--13960-t2c831z4j-1632534282.json\"\n",
    "with open(lg,\"r\") as f:\n",
    "    data = json.load(f)"
   ]
  },
  {
   "cell_type": "code",
   "execution_count": 282,
   "metadata": {},
   "outputs": [],
   "source": [
    "def clean(node):\n",
    "    if \"label\" in node:\n",
    "        node[\"type\"] = \"section\"\n",
    "        for n in node[\"children\"]:\n",
    "            if \"type\" in n and n[\"type\"] == \"label\":\n",
    "                node[\"value\"] = n[\"value\"]\n",
    "                node[\"coords\"] = n[\"coords\"]\n",
    "                node[\"page\"] = n[\"page\"]\n",
    "                node[\"children\"] = [\n",
    "                    n for n in node[\"children\"] \n",
    "                    if not (\"type\" in n and n[\"type\"]==\"label\")\n",
    "                    ]\n",
    "                break\n",
    "        else:\n",
    "            node[\"value\"] = node[\"label\"]\n",
    "        \n",
    "\n",
    "    if not \"children\" in node:\n",
    "        node[\"children\"] = []\n",
    "\n",
    "\n",
    "    if \"content\" in node:\n",
    "        node[\"children\"] = node[\"content\"] + node[\"children\"]\n",
    "\n",
    "    for n in node[\"children\"]:\n",
    "        clean(n)\n",
    "    "
   ]
  },
  {
   "cell_type": "code",
   "execution_count": 283,
   "metadata": {},
   "outputs": [],
   "source": [
    "\n",
    "clean(data)"
   ]
  },
  {
   "cell_type": "code",
   "execution_count": 284,
   "metadata": {},
   "outputs": [],
   "source": [
    "NODE_TYPES = {}\n",
    "MAX_LEN = 20"
   ]
  },
  {
   "cell_type": "code",
   "execution_count": 285,
   "metadata": {},
   "outputs": [],
   "source": [
    "from ipytree import Node\n",
    "\n",
    "\n",
    "class MyNode(Node):\n",
    "    def __init__(self, data=None):\n",
    "        super().__init__()\n",
    "        if data:\n",
    "            self.load(data)\n",
    "    def load(self, data):\n",
    "        for child in data[\"children\"]:\n",
    "            if not child[\"type\"] in \"labeltable\":\n",
    "                self.add_node(NODE_TYPES[child[\"type\"]](child))\n",
    "    def collapse(self):\n",
    "        self.opened = False\n",
    "    def expand(self):\n",
    "        self.opened = True\n",
    "        \n",
    "    def collapse_all(self):\n",
    "        self.collapse()\n",
    "        for n in self.nodes:\n",
    "            n.collapse_all()\n",
    "    def collapse_to(self, level):\n",
    "        if level == 0:\n",
    "            self.collapse_all()\n",
    "        else:\n",
    "            self.expand()\n",
    "            for n in self.nodes:\n",
    "                n.collapse_to(level-1)\n",
    "\n",
    "\n",
    "class SectionNode(MyNode):\n",
    "    def __init__(self, data=None):\n",
    "        super().__init__(data)\n",
    "        self.value = data.get(\"value\",\"\")\n",
    "        ellipsis = \"...\" if len(self.value)>MAX_LEN else \"\"\n",
    "        self.name = self.value[:MAX_LEN] + ellipsis\n",
    "\n",
    "class TextNode(MyNode):\n",
    "    def __init__(self, data=None):\n",
    "        super().__init__(data)\n",
    "        self.value = data.get(\"value\",\"\")\n",
    "        ellipsis = \"...\" if len(self.value)>MAX_LEN else \"\"\n",
    "        self.name = self.value[:MAX_LEN] + ellipsis\n",
    "        self.icon = \"align-left\"\n",
    "\n",
    "class ImageNode(MyNode):\n",
    "    def __init__(self, data=None):\n",
    "        super().__init__(data)\n",
    "        self.value = data.get(\"value\",\"\")\n",
    "        self.name = \"img\"\n",
    "        self.icon = \"image\"\n",
    "\n",
    "NODE_TYPES = {\n",
    "    \"section\": SectionNode,\n",
    "    \"text\": TextNode,\n",
    "    \"image\": ImageNode,\n",
    "}\n",
    "    "
   ]
  },
  {
   "cell_type": "code",
   "execution_count": 286,
   "id": "d62bad5c-a06f-4604-b5ab-1301288c6faf",
   "metadata": {},
   "outputs": [
    {
     "data": {
      "application/vnd.jupyter.widget-view+json": {
       "model_id": "153d43229791447296aaea03aa250ea8",
       "version_major": 2,
       "version_minor": 0
      },
      "text/plain": [
       "Tree(nodes=(SectionNode(name='..\\\\pdfs\\\\loc-ark--139...', nodes=(SectionNode(name='THE CAPITOL COOK BOO...', n…"
      ]
     },
     "metadata": {},
     "output_type": "display_data"
    }
   ],
   "source": [
    "tree = Tree(stripes=True)\n",
    "my_node = SectionNode(data)\n",
    "tree.add_node(my_node)\n",
    "my_node.collapse_to(2)\n",
    "tree"
   ]
  },
  {
   "cell_type": "code",
   "execution_count": 287,
   "metadata": {},
   "outputs": [],
   "source": [
    "my_node.collapse_to(2)"
   ]
  },
  {
   "cell_type": "code",
   "execution_count": null,
   "metadata": {},
   "outputs": [],
   "source": []
  }
 ],
 "metadata": {
  "interpreter": {
   "hash": "9e136513eca12b0ababf41794ea3eddf1f8d8471da0f15a69b9d19b1c9c269e5"
  },
  "kernelspec": {
   "display_name": "Python 3.9.7 64-bit ('pdf': conda)",
   "name": "python3"
  },
  "language_info": {
   "codemirror_mode": {
    "name": "ipython",
    "version": 3
   },
   "file_extension": ".py",
   "mimetype": "text/x-python",
   "name": "python",
   "nbconvert_exporter": "python",
   "pygments_lexer": "ipython3",
   "version": "3.9.7"
  }
 },
 "nbformat": 4,
 "nbformat_minor": 5
}
